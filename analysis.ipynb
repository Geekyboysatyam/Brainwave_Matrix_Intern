{
 "cells": [
  {
   "cell_type": "markdown",
   "metadata": {},
   "source": [
    "<h1>Sales Data Analysis</h1> \n",
    "This notebook analyzes sales data to uncover trends, patterns, and actionable insights. The analysis includes data exploration, cleaning, visualization, and deriving conclusions.  \n"
   ]
  },
  {
   "cell_type": "markdown",
   "metadata": {},
   "source": [
    "<h3>Importing Libraries </h3>\n",
    "The following libraries are used for data analysis and visualization:  <br>\n",
    "- `numpy` for numerical operations.  <br>\n",
    "- `pandas` for data manipulation.  <br>\n",
    "- `matplotlib` and `seaborn` for visualizations.  <br>"
   ]
  },
  {
   "cell_type": "code",
   "execution_count": 1,
   "metadata": {},
   "outputs": [],
   "source": [
    "import numpy as np \n",
    "import pandas as pd \n",
    "import matplotlib.pyplot as plt\n",
    "import seaborn as sns"
   ]
  },
  {
   "cell_type": "markdown",
   "metadata": {},
   "source": [
    "<h3>Loading Dataset</h3>The sales data is loaded into a pandas DataFrame for analysis. We first inspect its structure to understand the data.  \n"
   ]
  },
  {
   "cell_type": "code",
   "execution_count": 2,
   "metadata": {},
   "outputs": [
    {
     "data": {
      "text/html": [
       "<div>\n",
       "<style scoped>\n",
       "    .dataframe tbody tr th:only-of-type {\n",
       "        vertical-align: middle;\n",
       "    }\n",
       "\n",
       "    .dataframe tbody tr th {\n",
       "        vertical-align: top;\n",
       "    }\n",
       "\n",
       "    .dataframe thead th {\n",
       "        text-align: right;\n",
       "    }\n",
       "</style>\n",
       "<table border=\"1\" class=\"dataframe\">\n",
       "  <thead>\n",
       "    <tr style=\"text-align: right;\">\n",
       "      <th></th>\n",
       "      <th>Unnamed: 0</th>\n",
       "      <th>Order ID</th>\n",
       "      <th>Product</th>\n",
       "      <th>Quantity Ordered</th>\n",
       "      <th>Price Each</th>\n",
       "      <th>Order Date</th>\n",
       "      <th>Purchase Address</th>\n",
       "      <th>Month</th>\n",
       "      <th>Sales</th>\n",
       "      <th>City</th>\n",
       "      <th>Hour</th>\n",
       "    </tr>\n",
       "  </thead>\n",
       "  <tbody>\n",
       "    <tr>\n",
       "      <th>0</th>\n",
       "      <td>0</td>\n",
       "      <td>295665</td>\n",
       "      <td>Macbook Pro Laptop</td>\n",
       "      <td>1</td>\n",
       "      <td>1700.00</td>\n",
       "      <td>2019-12-30 00:01:00</td>\n",
       "      <td>136 Church St, New York City, NY 10001</td>\n",
       "      <td>12</td>\n",
       "      <td>1700.00</td>\n",
       "      <td>New York City</td>\n",
       "      <td>0</td>\n",
       "    </tr>\n",
       "    <tr>\n",
       "      <th>1</th>\n",
       "      <td>1</td>\n",
       "      <td>295666</td>\n",
       "      <td>LG Washing Machine</td>\n",
       "      <td>1</td>\n",
       "      <td>600.00</td>\n",
       "      <td>2019-12-29 07:03:00</td>\n",
       "      <td>562 2nd St, New York City, NY 10001</td>\n",
       "      <td>12</td>\n",
       "      <td>600.00</td>\n",
       "      <td>New York City</td>\n",
       "      <td>7</td>\n",
       "    </tr>\n",
       "    <tr>\n",
       "      <th>2</th>\n",
       "      <td>2</td>\n",
       "      <td>295667</td>\n",
       "      <td>USB-C Charging Cable</td>\n",
       "      <td>1</td>\n",
       "      <td>11.95</td>\n",
       "      <td>2019-12-12 18:21:00</td>\n",
       "      <td>277 Main St, New York City, NY 10001</td>\n",
       "      <td>12</td>\n",
       "      <td>11.95</td>\n",
       "      <td>New York City</td>\n",
       "      <td>18</td>\n",
       "    </tr>\n",
       "    <tr>\n",
       "      <th>3</th>\n",
       "      <td>3</td>\n",
       "      <td>295668</td>\n",
       "      <td>27in FHD Monitor</td>\n",
       "      <td>1</td>\n",
       "      <td>149.99</td>\n",
       "      <td>2019-12-22 15:13:00</td>\n",
       "      <td>410 6th St, San Francisco, CA 94016</td>\n",
       "      <td>12</td>\n",
       "      <td>149.99</td>\n",
       "      <td>San Francisco</td>\n",
       "      <td>15</td>\n",
       "    </tr>\n",
       "    <tr>\n",
       "      <th>4</th>\n",
       "      <td>4</td>\n",
       "      <td>295669</td>\n",
       "      <td>USB-C Charging Cable</td>\n",
       "      <td>1</td>\n",
       "      <td>11.95</td>\n",
       "      <td>2019-12-18 12:38:00</td>\n",
       "      <td>43 Hill St, Atlanta, GA 30301</td>\n",
       "      <td>12</td>\n",
       "      <td>11.95</td>\n",
       "      <td>Atlanta</td>\n",
       "      <td>12</td>\n",
       "    </tr>\n",
       "    <tr>\n",
       "      <th>...</th>\n",
       "      <td>...</td>\n",
       "      <td>...</td>\n",
       "      <td>...</td>\n",
       "      <td>...</td>\n",
       "      <td>...</td>\n",
       "      <td>...</td>\n",
       "      <td>...</td>\n",
       "      <td>...</td>\n",
       "      <td>...</td>\n",
       "      <td>...</td>\n",
       "      <td>...</td>\n",
       "    </tr>\n",
       "    <tr>\n",
       "      <th>185945</th>\n",
       "      <td>13617</td>\n",
       "      <td>222905</td>\n",
       "      <td>AAA Batteries (4-pack)</td>\n",
       "      <td>1</td>\n",
       "      <td>2.99</td>\n",
       "      <td>2019-06-07 19:02:00</td>\n",
       "      <td>795 Pine St, Boston, MA 02215</td>\n",
       "      <td>6</td>\n",
       "      <td>2.99</td>\n",
       "      <td>Boston</td>\n",
       "      <td>19</td>\n",
       "    </tr>\n",
       "    <tr>\n",
       "      <th>185946</th>\n",
       "      <td>13618</td>\n",
       "      <td>222906</td>\n",
       "      <td>27in FHD Monitor</td>\n",
       "      <td>1</td>\n",
       "      <td>149.99</td>\n",
       "      <td>2019-06-01 19:29:00</td>\n",
       "      <td>495 North St, New York City, NY 10001</td>\n",
       "      <td>6</td>\n",
       "      <td>149.99</td>\n",
       "      <td>New York City</td>\n",
       "      <td>19</td>\n",
       "    </tr>\n",
       "    <tr>\n",
       "      <th>185947</th>\n",
       "      <td>13619</td>\n",
       "      <td>222907</td>\n",
       "      <td>USB-C Charging Cable</td>\n",
       "      <td>1</td>\n",
       "      <td>11.95</td>\n",
       "      <td>2019-06-22 18:57:00</td>\n",
       "      <td>319 Ridge St, San Francisco, CA 94016</td>\n",
       "      <td>6</td>\n",
       "      <td>11.95</td>\n",
       "      <td>San Francisco</td>\n",
       "      <td>18</td>\n",
       "    </tr>\n",
       "    <tr>\n",
       "      <th>185948</th>\n",
       "      <td>13620</td>\n",
       "      <td>222908</td>\n",
       "      <td>USB-C Charging Cable</td>\n",
       "      <td>1</td>\n",
       "      <td>11.95</td>\n",
       "      <td>2019-06-26 18:35:00</td>\n",
       "      <td>916 Main St, San Francisco, CA 94016</td>\n",
       "      <td>6</td>\n",
       "      <td>11.95</td>\n",
       "      <td>San Francisco</td>\n",
       "      <td>18</td>\n",
       "    </tr>\n",
       "    <tr>\n",
       "      <th>185949</th>\n",
       "      <td>13621</td>\n",
       "      <td>222909</td>\n",
       "      <td>AAA Batteries (4-pack)</td>\n",
       "      <td>1</td>\n",
       "      <td>2.99</td>\n",
       "      <td>2019-06-25 14:33:00</td>\n",
       "      <td>209 11th St, Atlanta, GA 30301</td>\n",
       "      <td>6</td>\n",
       "      <td>2.99</td>\n",
       "      <td>Atlanta</td>\n",
       "      <td>14</td>\n",
       "    </tr>\n",
       "  </tbody>\n",
       "</table>\n",
       "<p>185950 rows × 11 columns</p>\n",
       "</div>"
      ],
      "text/plain": [
       "        Unnamed: 0  Order ID                 Product  Quantity Ordered  \\\n",
       "0                0    295665      Macbook Pro Laptop                 1   \n",
       "1                1    295666      LG Washing Machine                 1   \n",
       "2                2    295667    USB-C Charging Cable                 1   \n",
       "3                3    295668        27in FHD Monitor                 1   \n",
       "4                4    295669    USB-C Charging Cable                 1   \n",
       "...            ...       ...                     ...               ...   \n",
       "185945       13617    222905  AAA Batteries (4-pack)                 1   \n",
       "185946       13618    222906        27in FHD Monitor                 1   \n",
       "185947       13619    222907    USB-C Charging Cable                 1   \n",
       "185948       13620    222908    USB-C Charging Cable                 1   \n",
       "185949       13621    222909  AAA Batteries (4-pack)                 1   \n",
       "\n",
       "        Price Each           Order Date  \\\n",
       "0          1700.00  2019-12-30 00:01:00   \n",
       "1           600.00  2019-12-29 07:03:00   \n",
       "2            11.95  2019-12-12 18:21:00   \n",
       "3           149.99  2019-12-22 15:13:00   \n",
       "4            11.95  2019-12-18 12:38:00   \n",
       "...            ...                  ...   \n",
       "185945        2.99  2019-06-07 19:02:00   \n",
       "185946      149.99  2019-06-01 19:29:00   \n",
       "185947       11.95  2019-06-22 18:57:00   \n",
       "185948       11.95  2019-06-26 18:35:00   \n",
       "185949        2.99  2019-06-25 14:33:00   \n",
       "\n",
       "                              Purchase Address  Month    Sales  \\\n",
       "0       136 Church St, New York City, NY 10001     12  1700.00   \n",
       "1          562 2nd St, New York City, NY 10001     12   600.00   \n",
       "2         277 Main St, New York City, NY 10001     12    11.95   \n",
       "3          410 6th St, San Francisco, CA 94016     12   149.99   \n",
       "4                43 Hill St, Atlanta, GA 30301     12    11.95   \n",
       "...                                        ...    ...      ...   \n",
       "185945           795 Pine St, Boston, MA 02215      6     2.99   \n",
       "185946   495 North St, New York City, NY 10001      6   149.99   \n",
       "185947   319 Ridge St, San Francisco, CA 94016      6    11.95   \n",
       "185948    916 Main St, San Francisco, CA 94016      6    11.95   \n",
       "185949          209 11th St, Atlanta, GA 30301      6     2.99   \n",
       "\n",
       "                  City  Hour  \n",
       "0        New York City     0  \n",
       "1        New York City     7  \n",
       "2        New York City    18  \n",
       "3        San Francisco    15  \n",
       "4              Atlanta    12  \n",
       "...                ...   ...  \n",
       "185945          Boston    19  \n",
       "185946   New York City    19  \n",
       "185947   San Francisco    18  \n",
       "185948   San Francisco    18  \n",
       "185949         Atlanta    14  \n",
       "\n",
       "[185950 rows x 11 columns]"
      ]
     },
     "execution_count": 2,
     "metadata": {},
     "output_type": "execute_result"
    }
   ],
   "source": [
    "df = pd.read_csv(\"Sales_Data.csv\")\n",
    "df"
   ]
  },
  {
   "cell_type": "markdown",
   "metadata": {},
   "source": [
    "<h3> Data Exploration </h3>\n",
    "Initial exploration of the dataset to:  <br>\n",
    "- Preview the first few rows.  <br>\n",
    "- Identify column names and data types. <br>  \n",
    "- Check for missing values or anomalies. <br>"
   ]
  },
  {
   "cell_type": "code",
   "execution_count": 3,
   "metadata": {},
   "outputs": [
    {
     "data": {
      "text/html": [
       "<div>\n",
       "<style scoped>\n",
       "    .dataframe tbody tr th:only-of-type {\n",
       "        vertical-align: middle;\n",
       "    }\n",
       "\n",
       "    .dataframe tbody tr th {\n",
       "        vertical-align: top;\n",
       "    }\n",
       "\n",
       "    .dataframe thead th {\n",
       "        text-align: right;\n",
       "    }\n",
       "</style>\n",
       "<table border=\"1\" class=\"dataframe\">\n",
       "  <thead>\n",
       "    <tr style=\"text-align: right;\">\n",
       "      <th></th>\n",
       "      <th>Unnamed: 0</th>\n",
       "      <th>Order ID</th>\n",
       "      <th>Product</th>\n",
       "      <th>Quantity Ordered</th>\n",
       "      <th>Price Each</th>\n",
       "      <th>Order Date</th>\n",
       "      <th>Purchase Address</th>\n",
       "      <th>Month</th>\n",
       "      <th>Sales</th>\n",
       "      <th>City</th>\n",
       "      <th>Hour</th>\n",
       "    </tr>\n",
       "  </thead>\n",
       "  <tbody>\n",
       "    <tr>\n",
       "      <th>0</th>\n",
       "      <td>0</td>\n",
       "      <td>295665</td>\n",
       "      <td>Macbook Pro Laptop</td>\n",
       "      <td>1</td>\n",
       "      <td>1700.00</td>\n",
       "      <td>2019-12-30 00:01:00</td>\n",
       "      <td>136 Church St, New York City, NY 10001</td>\n",
       "      <td>12</td>\n",
       "      <td>1700.00</td>\n",
       "      <td>New York City</td>\n",
       "      <td>0</td>\n",
       "    </tr>\n",
       "    <tr>\n",
       "      <th>1</th>\n",
       "      <td>1</td>\n",
       "      <td>295666</td>\n",
       "      <td>LG Washing Machine</td>\n",
       "      <td>1</td>\n",
       "      <td>600.00</td>\n",
       "      <td>2019-12-29 07:03:00</td>\n",
       "      <td>562 2nd St, New York City, NY 10001</td>\n",
       "      <td>12</td>\n",
       "      <td>600.00</td>\n",
       "      <td>New York City</td>\n",
       "      <td>7</td>\n",
       "    </tr>\n",
       "    <tr>\n",
       "      <th>2</th>\n",
       "      <td>2</td>\n",
       "      <td>295667</td>\n",
       "      <td>USB-C Charging Cable</td>\n",
       "      <td>1</td>\n",
       "      <td>11.95</td>\n",
       "      <td>2019-12-12 18:21:00</td>\n",
       "      <td>277 Main St, New York City, NY 10001</td>\n",
       "      <td>12</td>\n",
       "      <td>11.95</td>\n",
       "      <td>New York City</td>\n",
       "      <td>18</td>\n",
       "    </tr>\n",
       "    <tr>\n",
       "      <th>3</th>\n",
       "      <td>3</td>\n",
       "      <td>295668</td>\n",
       "      <td>27in FHD Monitor</td>\n",
       "      <td>1</td>\n",
       "      <td>149.99</td>\n",
       "      <td>2019-12-22 15:13:00</td>\n",
       "      <td>410 6th St, San Francisco, CA 94016</td>\n",
       "      <td>12</td>\n",
       "      <td>149.99</td>\n",
       "      <td>San Francisco</td>\n",
       "      <td>15</td>\n",
       "    </tr>\n",
       "    <tr>\n",
       "      <th>4</th>\n",
       "      <td>4</td>\n",
       "      <td>295669</td>\n",
       "      <td>USB-C Charging Cable</td>\n",
       "      <td>1</td>\n",
       "      <td>11.95</td>\n",
       "      <td>2019-12-18 12:38:00</td>\n",
       "      <td>43 Hill St, Atlanta, GA 30301</td>\n",
       "      <td>12</td>\n",
       "      <td>11.95</td>\n",
       "      <td>Atlanta</td>\n",
       "      <td>12</td>\n",
       "    </tr>\n",
       "  </tbody>\n",
       "</table>\n",
       "</div>"
      ],
      "text/plain": [
       "   Unnamed: 0  Order ID               Product  Quantity Ordered  Price Each  \\\n",
       "0           0    295665    Macbook Pro Laptop                 1     1700.00   \n",
       "1           1    295666    LG Washing Machine                 1      600.00   \n",
       "2           2    295667  USB-C Charging Cable                 1       11.95   \n",
       "3           3    295668      27in FHD Monitor                 1      149.99   \n",
       "4           4    295669  USB-C Charging Cable                 1       11.95   \n",
       "\n",
       "            Order Date                        Purchase Address  Month  \\\n",
       "0  2019-12-30 00:01:00  136 Church St, New York City, NY 10001     12   \n",
       "1  2019-12-29 07:03:00     562 2nd St, New York City, NY 10001     12   \n",
       "2  2019-12-12 18:21:00    277 Main St, New York City, NY 10001     12   \n",
       "3  2019-12-22 15:13:00     410 6th St, San Francisco, CA 94016     12   \n",
       "4  2019-12-18 12:38:00           43 Hill St, Atlanta, GA 30301     12   \n",
       "\n",
       "     Sales            City  Hour  \n",
       "0  1700.00   New York City     0  \n",
       "1   600.00   New York City     7  \n",
       "2    11.95   New York City    18  \n",
       "3   149.99   San Francisco    15  \n",
       "4    11.95         Atlanta    12  "
      ]
     },
     "execution_count": 3,
     "metadata": {},
     "output_type": "execute_result"
    }
   ],
   "source": [
    "df.head()"
   ]
  },
  {
   "cell_type": "code",
   "execution_count": 4,
   "metadata": {},
   "outputs": [
    {
     "data": {
      "text/plain": [
       "Index(['Unnamed: 0', 'Order ID', 'Product', 'Quantity Ordered', 'Price Each',\n",
       "       'Order Date', 'Purchase Address', 'Month', 'Sales', 'City', 'Hour'],\n",
       "      dtype='object')"
      ]
     },
     "execution_count": 4,
     "metadata": {},
     "output_type": "execute_result"
    }
   ],
   "source": [
    "df.columns"
   ]
  },
  {
   "cell_type": "code",
   "execution_count": 5,
   "metadata": {},
   "outputs": [
    {
     "name": "stdout",
     "output_type": "stream",
     "text": [
      "<class 'pandas.core.frame.DataFrame'>\n",
      "RangeIndex: 185950 entries, 0 to 185949\n",
      "Data columns (total 11 columns):\n",
      " #   Column            Non-Null Count   Dtype  \n",
      "---  ------            --------------   -----  \n",
      " 0   Unnamed: 0        185950 non-null  int64  \n",
      " 1   Order ID          185950 non-null  int64  \n",
      " 2   Product           185950 non-null  object \n",
      " 3   Quantity Ordered  185950 non-null  int64  \n",
      " 4   Price Each        185950 non-null  float64\n",
      " 5   Order Date        185950 non-null  object \n",
      " 6   Purchase Address  185950 non-null  object \n",
      " 7   Month             185950 non-null  int64  \n",
      " 8   Sales             185950 non-null  float64\n",
      " 9   City              185950 non-null  object \n",
      " 10  Hour              185950 non-null  int64  \n",
      "dtypes: float64(2), int64(5), object(4)\n",
      "memory usage: 15.6+ MB\n"
     ]
    }
   ],
   "source": [
    "df.info()"
   ]
  },
  {
   "cell_type": "code",
   "execution_count": 6,
   "metadata": {},
   "outputs": [
    {
     "data": {
      "text/plain": [
       "Unnamed: 0          185950\n",
       "Order ID            185950\n",
       "Product             185950\n",
       "Quantity Ordered    185950\n",
       "Price Each          185950\n",
       "Order Date          185950\n",
       "Purchase Address    185950\n",
       "Month               185950\n",
       "Sales               185950\n",
       "City                185950\n",
       "Hour                185950\n",
       "dtype: int64"
      ]
     },
     "execution_count": 6,
     "metadata": {},
     "output_type": "execute_result"
    }
   ],
   "source": [
    "df.count()"
   ]
  },
  {
   "cell_type": "code",
   "execution_count": 7,
   "metadata": {},
   "outputs": [],
   "source": [
    "df.drop(['Unnamed: 0'], axis = 1,inplace = True)"
   ]
  },
  {
   "cell_type": "code",
   "execution_count": 8,
   "metadata": {},
   "outputs": [
    {
     "data": {
      "text/html": [
       "<div>\n",
       "<style scoped>\n",
       "    .dataframe tbody tr th:only-of-type {\n",
       "        vertical-align: middle;\n",
       "    }\n",
       "\n",
       "    .dataframe tbody tr th {\n",
       "        vertical-align: top;\n",
       "    }\n",
       "\n",
       "    .dataframe thead th {\n",
       "        text-align: right;\n",
       "    }\n",
       "</style>\n",
       "<table border=\"1\" class=\"dataframe\">\n",
       "  <thead>\n",
       "    <tr style=\"text-align: right;\">\n",
       "      <th></th>\n",
       "      <th>Order ID</th>\n",
       "      <th>Product</th>\n",
       "      <th>Quantity Ordered</th>\n",
       "      <th>Price Each</th>\n",
       "      <th>Order Date</th>\n",
       "      <th>Purchase Address</th>\n",
       "      <th>Month</th>\n",
       "      <th>Sales</th>\n",
       "      <th>City</th>\n",
       "      <th>Hour</th>\n",
       "    </tr>\n",
       "  </thead>\n",
       "  <tbody>\n",
       "    <tr>\n",
       "      <th>0</th>\n",
       "      <td>295665</td>\n",
       "      <td>Macbook Pro Laptop</td>\n",
       "      <td>1</td>\n",
       "      <td>1700.00</td>\n",
       "      <td>2019-12-30 00:01:00</td>\n",
       "      <td>136 Church St, New York City, NY 10001</td>\n",
       "      <td>12</td>\n",
       "      <td>1700.00</td>\n",
       "      <td>New York City</td>\n",
       "      <td>0</td>\n",
       "    </tr>\n",
       "    <tr>\n",
       "      <th>1</th>\n",
       "      <td>295666</td>\n",
       "      <td>LG Washing Machine</td>\n",
       "      <td>1</td>\n",
       "      <td>600.00</td>\n",
       "      <td>2019-12-29 07:03:00</td>\n",
       "      <td>562 2nd St, New York City, NY 10001</td>\n",
       "      <td>12</td>\n",
       "      <td>600.00</td>\n",
       "      <td>New York City</td>\n",
       "      <td>7</td>\n",
       "    </tr>\n",
       "    <tr>\n",
       "      <th>2</th>\n",
       "      <td>295667</td>\n",
       "      <td>USB-C Charging Cable</td>\n",
       "      <td>1</td>\n",
       "      <td>11.95</td>\n",
       "      <td>2019-12-12 18:21:00</td>\n",
       "      <td>277 Main St, New York City, NY 10001</td>\n",
       "      <td>12</td>\n",
       "      <td>11.95</td>\n",
       "      <td>New York City</td>\n",
       "      <td>18</td>\n",
       "    </tr>\n",
       "    <tr>\n",
       "      <th>3</th>\n",
       "      <td>295668</td>\n",
       "      <td>27in FHD Monitor</td>\n",
       "      <td>1</td>\n",
       "      <td>149.99</td>\n",
       "      <td>2019-12-22 15:13:00</td>\n",
       "      <td>410 6th St, San Francisco, CA 94016</td>\n",
       "      <td>12</td>\n",
       "      <td>149.99</td>\n",
       "      <td>San Francisco</td>\n",
       "      <td>15</td>\n",
       "    </tr>\n",
       "    <tr>\n",
       "      <th>4</th>\n",
       "      <td>295669</td>\n",
       "      <td>USB-C Charging Cable</td>\n",
       "      <td>1</td>\n",
       "      <td>11.95</td>\n",
       "      <td>2019-12-18 12:38:00</td>\n",
       "      <td>43 Hill St, Atlanta, GA 30301</td>\n",
       "      <td>12</td>\n",
       "      <td>11.95</td>\n",
       "      <td>Atlanta</td>\n",
       "      <td>12</td>\n",
       "    </tr>\n",
       "  </tbody>\n",
       "</table>\n",
       "</div>"
      ],
      "text/plain": [
       "   Order ID               Product  Quantity Ordered  Price Each  \\\n",
       "0    295665    Macbook Pro Laptop                 1     1700.00   \n",
       "1    295666    LG Washing Machine                 1      600.00   \n",
       "2    295667  USB-C Charging Cable                 1       11.95   \n",
       "3    295668      27in FHD Monitor                 1      149.99   \n",
       "4    295669  USB-C Charging Cable                 1       11.95   \n",
       "\n",
       "            Order Date                        Purchase Address  Month  \\\n",
       "0  2019-12-30 00:01:00  136 Church St, New York City, NY 10001     12   \n",
       "1  2019-12-29 07:03:00     562 2nd St, New York City, NY 10001     12   \n",
       "2  2019-12-12 18:21:00    277 Main St, New York City, NY 10001     12   \n",
       "3  2019-12-22 15:13:00     410 6th St, San Francisco, CA 94016     12   \n",
       "4  2019-12-18 12:38:00           43 Hill St, Atlanta, GA 30301     12   \n",
       "\n",
       "     Sales            City  Hour  \n",
       "0  1700.00   New York City     0  \n",
       "1   600.00   New York City     7  \n",
       "2    11.95   New York City    18  \n",
       "3   149.99   San Francisco    15  \n",
       "4    11.95         Atlanta    12  "
      ]
     },
     "execution_count": 8,
     "metadata": {},
     "output_type": "execute_result"
    }
   ],
   "source": [
    "df.head()"
   ]
  },
  {
   "cell_type": "markdown",
   "metadata": {},
   "source": [
    "<h3>Data Cleaning</h3>  \n",
    "Steps to clean and preprocess the dataset:  <br>\n",
    "- Handle missing values.  <br>\n",
    "- Remove duplicates.  <br>\n",
    "- Standardize data types. <br>  \n",
    "Ensuring data integrity is critical for meaningful analysis.  <br>"
   ]
  },
  {
   "cell_type": "code",
   "execution_count": null,
   "metadata": {},
   "outputs": [
    {
     "name": "stdout",
     "output_type": "stream",
     "text": [
      "<class 'pandas.core.frame.DataFrame'>\n",
      "RangeIndex: 185950 entries, 0 to 185949\n",
      "Data columns (total 10 columns):\n",
      " #   Column            Non-Null Count   Dtype  \n",
      "---  ------            --------------   -----  \n",
      " 0   Order ID          185950 non-null  int64  \n",
      " 1   Product           185950 non-null  object \n",
      " 2   Quantity Ordered  185950 non-null  int64  \n",
      " 3   Price Each        185950 non-null  float64\n",
      " 4   Order Date        185950 non-null  object \n",
      " 5   Purchase Address  185950 non-null  object \n",
      " 6   Month             185950 non-null  int64  \n",
      " 7   Sales             185950 non-null  float64\n",
      " 8   City              185950 non-null  object \n",
      " 9   Hour              185950 non-null  int64  \n",
      "dtypes: float64(2), int64(4), object(4)\n",
      "memory usage: 14.2+ MB\n"
     ]
    }
   ],
   "source": [
    "df.info()"
   ]
  },
  {
   "cell_type": "code",
   "execution_count": 10,
   "metadata": {},
   "outputs": [
    {
     "data": {
      "text/plain": [
       "0        2019-12-30 00:01:00\n",
       "1        2019-12-29 07:03:00\n",
       "2        2019-12-12 18:21:00\n",
       "3        2019-12-22 15:13:00\n",
       "4        2019-12-18 12:38:00\n",
       "                 ...        \n",
       "185945   2019-06-07 19:02:00\n",
       "185946   2019-06-01 19:29:00\n",
       "185947   2019-06-22 18:57:00\n",
       "185948   2019-06-26 18:35:00\n",
       "185949   2019-06-25 14:33:00\n",
       "Name: Order Date, Length: 185950, dtype: datetime64[ns]"
      ]
     },
     "execution_count": 10,
     "metadata": {},
     "output_type": "execute_result"
    }
   ],
   "source": [
    "df['Order Date'] = pd.to_datetime(df['Order Date'])\n",
    "df['Order Date']"
   ]
  },
  {
   "cell_type": "code",
   "execution_count": 11,
   "metadata": {},
   "outputs": [
    {
     "name": "stdout",
     "output_type": "stream",
     "text": [
      "<class 'pandas.core.frame.DataFrame'>\n",
      "RangeIndex: 185950 entries, 0 to 185949\n",
      "Data columns (total 10 columns):\n",
      " #   Column            Non-Null Count   Dtype         \n",
      "---  ------            --------------   -----         \n",
      " 0   Order ID          185950 non-null  int64         \n",
      " 1   Product           185950 non-null  object        \n",
      " 2   Quantity Ordered  185950 non-null  int64         \n",
      " 3   Price Each        185950 non-null  float64       \n",
      " 4   Order Date        185950 non-null  datetime64[ns]\n",
      " 5   Purchase Address  185950 non-null  object        \n",
      " 6   Month             185950 non-null  int64         \n",
      " 7   Sales             185950 non-null  float64       \n",
      " 8   City              185950 non-null  object        \n",
      " 9   Hour              185950 non-null  int64         \n",
      "dtypes: datetime64[ns](1), float64(2), int64(4), object(3)\n",
      "memory usage: 14.2+ MB\n"
     ]
    }
   ],
   "source": [
    "df.info()"
   ]
  },
  {
   "cell_type": "code",
   "execution_count": 12,
   "metadata": {},
   "outputs": [
    {
     "data": {
      "text/html": [
       "<div>\n",
       "<style scoped>\n",
       "    .dataframe tbody tr th:only-of-type {\n",
       "        vertical-align: middle;\n",
       "    }\n",
       "\n",
       "    .dataframe tbody tr th {\n",
       "        vertical-align: top;\n",
       "    }\n",
       "\n",
       "    .dataframe thead th {\n",
       "        text-align: right;\n",
       "    }\n",
       "</style>\n",
       "<table border=\"1\" class=\"dataframe\">\n",
       "  <thead>\n",
       "    <tr style=\"text-align: right;\">\n",
       "      <th></th>\n",
       "      <th>Product</th>\n",
       "      <th>Purchase Address</th>\n",
       "      <th>City</th>\n",
       "    </tr>\n",
       "  </thead>\n",
       "  <tbody>\n",
       "    <tr>\n",
       "      <th>count</th>\n",
       "      <td>185950</td>\n",
       "      <td>185950</td>\n",
       "      <td>185950</td>\n",
       "    </tr>\n",
       "    <tr>\n",
       "      <th>unique</th>\n",
       "      <td>19</td>\n",
       "      <td>140787</td>\n",
       "      <td>9</td>\n",
       "    </tr>\n",
       "    <tr>\n",
       "      <th>top</th>\n",
       "      <td>USB-C Charging Cable</td>\n",
       "      <td>193 Forest St, San Francisco, CA 94016</td>\n",
       "      <td>San Francisco</td>\n",
       "    </tr>\n",
       "    <tr>\n",
       "      <th>freq</th>\n",
       "      <td>21903</td>\n",
       "      <td>9</td>\n",
       "      <td>44732</td>\n",
       "    </tr>\n",
       "  </tbody>\n",
       "</table>\n",
       "</div>"
      ],
      "text/plain": [
       "                     Product                        Purchase Address  \\\n",
       "count                 185950                                  185950   \n",
       "unique                    19                                  140787   \n",
       "top     USB-C Charging Cable  193 Forest St, San Francisco, CA 94016   \n",
       "freq                   21903                                       9   \n",
       "\n",
       "                  City  \n",
       "count           185950  \n",
       "unique               9  \n",
       "top      San Francisco  \n",
       "freq             44732  "
      ]
     },
     "execution_count": 12,
     "metadata": {},
     "output_type": "execute_result"
    }
   ],
   "source": [
    "df.describe(include = 'object')"
   ]
  },
  {
   "cell_type": "code",
   "execution_count": 13,
   "metadata": {},
   "outputs": [
    {
     "data": {
      "text/plain": [
       "Order ID            0\n",
       "Product             0\n",
       "Quantity Ordered    0\n",
       "Price Each          0\n",
       "Order Date          0\n",
       "Purchase Address    0\n",
       "Month               0\n",
       "Sales               0\n",
       "City                0\n",
       "Hour                0\n",
       "dtype: int64"
      ]
     },
     "execution_count": 13,
     "metadata": {},
     "output_type": "execute_result"
    }
   ],
   "source": [
    "df.isnull().sum()\n"
   ]
  },
  {
   "cell_type": "code",
   "execution_count": 14,
   "metadata": {},
   "outputs": [
    {
     "data": {
      "text/html": [
       "<div>\n",
       "<style scoped>\n",
       "    .dataframe tbody tr th:only-of-type {\n",
       "        vertical-align: middle;\n",
       "    }\n",
       "\n",
       "    .dataframe tbody tr th {\n",
       "        vertical-align: top;\n",
       "    }\n",
       "\n",
       "    .dataframe thead th {\n",
       "        text-align: right;\n",
       "    }\n",
       "</style>\n",
       "<table border=\"1\" class=\"dataframe\">\n",
       "  <thead>\n",
       "    <tr style=\"text-align: right;\">\n",
       "      <th></th>\n",
       "      <th>Order ID</th>\n",
       "      <th>Product</th>\n",
       "      <th>Quantity Ordered</th>\n",
       "      <th>Price Each</th>\n",
       "      <th>Order Date</th>\n",
       "      <th>Purchase Address</th>\n",
       "      <th>Month</th>\n",
       "      <th>Sales</th>\n",
       "      <th>City</th>\n",
       "      <th>Hour</th>\n",
       "    </tr>\n",
       "  </thead>\n",
       "  <tbody>\n",
       "    <tr>\n",
       "      <th>0</th>\n",
       "      <td>295665</td>\n",
       "      <td>Macbook Pro Laptop</td>\n",
       "      <td>1</td>\n",
       "      <td>1700.00</td>\n",
       "      <td>2019-12-30 00:01:00</td>\n",
       "      <td>136 Church St, New York City, NY 10001</td>\n",
       "      <td>12</td>\n",
       "      <td>1700.00</td>\n",
       "      <td>New York City</td>\n",
       "      <td>0</td>\n",
       "    </tr>\n",
       "    <tr>\n",
       "      <th>1</th>\n",
       "      <td>295666</td>\n",
       "      <td>LG Washing Machine</td>\n",
       "      <td>1</td>\n",
       "      <td>600.00</td>\n",
       "      <td>2019-12-29 07:03:00</td>\n",
       "      <td>562 2nd St, New York City, NY 10001</td>\n",
       "      <td>12</td>\n",
       "      <td>600.00</td>\n",
       "      <td>New York City</td>\n",
       "      <td>7</td>\n",
       "    </tr>\n",
       "    <tr>\n",
       "      <th>2</th>\n",
       "      <td>295667</td>\n",
       "      <td>USB-C Charging Cable</td>\n",
       "      <td>1</td>\n",
       "      <td>11.95</td>\n",
       "      <td>2019-12-12 18:21:00</td>\n",
       "      <td>277 Main St, New York City, NY 10001</td>\n",
       "      <td>12</td>\n",
       "      <td>11.95</td>\n",
       "      <td>New York City</td>\n",
       "      <td>18</td>\n",
       "    </tr>\n",
       "    <tr>\n",
       "      <th>3</th>\n",
       "      <td>295668</td>\n",
       "      <td>27in FHD Monitor</td>\n",
       "      <td>1</td>\n",
       "      <td>149.99</td>\n",
       "      <td>2019-12-22 15:13:00</td>\n",
       "      <td>410 6th St, San Francisco, CA 94016</td>\n",
       "      <td>12</td>\n",
       "      <td>149.99</td>\n",
       "      <td>San Francisco</td>\n",
       "      <td>15</td>\n",
       "    </tr>\n",
       "    <tr>\n",
       "      <th>4</th>\n",
       "      <td>295669</td>\n",
       "      <td>USB-C Charging Cable</td>\n",
       "      <td>1</td>\n",
       "      <td>11.95</td>\n",
       "      <td>2019-12-18 12:38:00</td>\n",
       "      <td>43 Hill St, Atlanta, GA 30301</td>\n",
       "      <td>12</td>\n",
       "      <td>11.95</td>\n",
       "      <td>Atlanta</td>\n",
       "      <td>12</td>\n",
       "    </tr>\n",
       "  </tbody>\n",
       "</table>\n",
       "</div>"
      ],
      "text/plain": [
       "   Order ID               Product  Quantity Ordered  Price Each  \\\n",
       "0    295665    Macbook Pro Laptop                 1     1700.00   \n",
       "1    295666    LG Washing Machine                 1      600.00   \n",
       "2    295667  USB-C Charging Cable                 1       11.95   \n",
       "3    295668      27in FHD Monitor                 1      149.99   \n",
       "4    295669  USB-C Charging Cable                 1       11.95   \n",
       "\n",
       "           Order Date                        Purchase Address  Month    Sales  \\\n",
       "0 2019-12-30 00:01:00  136 Church St, New York City, NY 10001     12  1700.00   \n",
       "1 2019-12-29 07:03:00     562 2nd St, New York City, NY 10001     12   600.00   \n",
       "2 2019-12-12 18:21:00    277 Main St, New York City, NY 10001     12    11.95   \n",
       "3 2019-12-22 15:13:00     410 6th St, San Francisco, CA 94016     12   149.99   \n",
       "4 2019-12-18 12:38:00           43 Hill St, Atlanta, GA 30301     12    11.95   \n",
       "\n",
       "             City  Hour  \n",
       "0   New York City     0  \n",
       "1   New York City     7  \n",
       "2   New York City    18  \n",
       "3   San Francisco    15  \n",
       "4         Atlanta    12  "
      ]
     },
     "execution_count": 14,
     "metadata": {},
     "output_type": "execute_result"
    }
   ],
   "source": [
    "df.head()"
   ]
  },
  {
   "cell_type": "code",
   "execution_count": null,
   "metadata": {},
   "outputs": [
    {
     "data": {
      "text/plain": [
       "array(['Macbook Pro Laptop', 'LG Washing Machine', 'USB-C Charging Cable',\n",
       "       '27in FHD Monitor', 'AA Batteries (4-pack)',\n",
       "       'Bose SoundSport Headphones', 'AAA Batteries (4-pack)',\n",
       "       'ThinkPad Laptop', 'Lightning Charging Cable', 'Google Phone',\n",
       "       'Wired Headphones', 'Apple Airpods Headphones', 'Vareebadd Phone',\n",
       "       'iPhone', '20in Monitor', '34in Ultrawide Monitor',\n",
       "       'Flatscreen TV', '27in 4K Gaming Monitor', 'LG Dryer'],\n",
       "      dtype=object)"
      ]
     },
     "execution_count": 24,
     "metadata": {},
     "output_type": "execute_result"
    }
   ],
   "source": [
    "df['Product'].unique()"
   ]
  },
  {
   "cell_type": "code",
   "execution_count": 16,
   "metadata": {},
   "outputs": [
    {
     "data": {
      "text/plain": [
       "<Axes: title={'center': 'Quantity ordered per product'}, xlabel='Product'>"
      ]
     },
     "execution_count": 16,
     "metadata": {},
     "output_type": "execute_result"
    },
    {
     "data": {
      "image/png": "[encoded data removed]",
      "text/plain": [
       "<Figure size 400x500 with 1 Axes>"
      ]
     },
     "metadata": {},
     "output_type": "display_data"
    }
   ],
   "source": [
    "df.groupby('Product')['Quantity Ordered'].sum().plot.bar(title = 'Quantity ordered per product',figsize =(4,5))"
   ]
  },
  {
   "cell_type": "code",
   "execution_count": null,
   "metadata": {},
   "outputs": [
    {
     "data": {
      "text/plain": [
       "<Axes: title={'center': ' month wise sales'}, xlabel='Month'>"
      ]
     },
     "execution_count": 17,
     "metadata": {},
     "output_type": "execute_result"
    },
    {
     "data": {
      "image/png": "[encoded data removed]",
      "text/plain": [
       "<Figure size 400x500 with 1 Axes>"
      ]
     },
     "metadata": {},
     "output_type": "display_data"
    }
   ],
   "source": [
    "df.groupby('Month')['Sales'].sum().plot.bar(title = ' month wise sales',figsize = (4,5))"
   ]
  },
  {
   "cell_type": "code",
   "execution_count": 20,
   "metadata": {},
   "outputs": [
    {
     "data": {
      "text/plain": [
       "City\n",
       "San Francisco    8262203.91\n",
       "Los Angeles      5452570.80\n",
       "New York City    4664317.43\n",
       "Boston           3661642.01\n",
       "Atlanta          2795498.58\n",
       "Name: Sales, dtype: float64"
      ]
     },
     "execution_count": 20,
     "metadata": {},
     "output_type": "execute_result"
    }
   ],
   "source": [
    "\n",
    "city_sales=df.groupby('City')['Sales'].sum().nlargest(5)\n",
    "city_sales"
   ]
  },
  {
   "cell_type": "code",
   "execution_count": 21,
   "metadata": {},
   "outputs": [
    {
     "data": {
      "image/png": "[encoded data removed]",
      "text/plain": [
       "<Figure size 800x800 with 1 Axes>"
      ]
     },
     "metadata": {},
     "output_type": "display_data"
    }
   ],
   "source": [
    "plt.figure(figsize = (8,8))\n",
    "plt.title('Top 5 countries with maximum sales')\n",
    "plt.pie(city_sales,autopct = '%.2f',labels = city_sales.index)\n",
    "plt.show()"
   ]
  },
  {
   "cell_type": "code",
   "execution_count": 22,
   "metadata": {},
   "outputs": [
    {
     "data": {
      "image/png": "[encoded data removed]",
      "text/plain": [
       "<Figure size 640x480 with 1 Axes>"
      ]
     },
     "metadata": {},
     "output_type": "display_data"
    }
   ],
   "source": [
    "sns.barplot(x = city_sales.index , y = city_sales).set(title = 'top 5 city with most sales')\n",
    "plt.show()"
   ]
  },
  {
   "cell_type": "code",
   "execution_count": 23,
   "metadata": {},
   "outputs": [
    {
     "data": {
      "text/plain": [
       "<Axes: title={'center': 'Per hour sales'}, xlabel='Hour'>"
      ]
     },
     "execution_count": 23,
     "metadata": {},
     "output_type": "execute_result"
    },
    {
     "data": {
      "image/png": "[encoded data removed]",
      "text/plain": [
       "<Figure size 400x500 with 1 Axes>"
      ]
     },
     "metadata": {},
     "output_type": "display_data"
    }
   ],
   "source": [
    "df.groupby('Hour')['Sales'].sum().plot.bar(title = 'Per hour sales',figsize = (4,5))"
   ]
  },
  {
   "cell_type": "code",
   "execution_count": null,
   "metadata": {},
   "outputs": [],
   "source": []
  }
 ],
 "metadata": {
  "kernelspec": {
   "display_name": "Python 3",
   "language": "python",
   "name": "python3"
  },
  "language_info": {
   "codemirror_mode": {
    "name": "ipython",
    "version": 3
   },
   "file_extension": ".py",
   "mimetype": "text/x-python",
   "name": "python",
   "nbconvert_exporter": "python",
   "pygments_lexer": "ipython3",
   "version": "3.11.9"
  }
 },
 "nbformat": 4,
 "nbformat_minor": 2
}
